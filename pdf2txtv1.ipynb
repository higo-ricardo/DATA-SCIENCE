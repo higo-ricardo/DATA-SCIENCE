{
  "nbformat": 4,
  "nbformat_minor": 0,
  "metadata": {
    "colab": {
      "provenance": []
    },
    "kernelspec": {
      "name": "python3",
      "display_name": "Python 3"
    },
    "language_info": {
      "name": "python"
    },
    "widgets": {
      "application/vnd.jupyter.widget-state+json": {
        "00ee71a3297c4b9a8da1c62f7e2003bb": {
          "model_module": "@jupyter-widgets/controls",
          "model_name": "FileUploadModel",
          "model_module_version": "1.5.0",
          "state": {
            "_counter": 0,
            "_dom_classes": [],
            "_model_module": "@jupyter-widgets/controls",
            "_model_module_version": "1.5.0",
            "_model_name": "FileUploadModel",
            "_view_count": null,
            "_view_module": "@jupyter-widgets/controls",
            "_view_module_version": "1.5.0",
            "_view_name": "FileUploadView",
            "accept": ".pdf",
            "button_style": "",
            "data": [],
            "description": "Upload",
            "description_tooltip": null,
            "disabled": false,
            "error": "",
            "icon": "upload",
            "layout": "IPY_MODEL_98c06b64816149ceb4fa45caa50c8bd9",
            "metadata": [],
            "multiple": true,
            "style": "IPY_MODEL_a8b43b8059de42a0bec526e98b5a272d"
          }
        },
        "98c06b64816149ceb4fa45caa50c8bd9": {
          "model_module": "@jupyter-widgets/base",
          "model_name": "LayoutModel",
          "model_module_version": "1.2.0",
          "state": {
            "_model_module": "@jupyter-widgets/base",
            "_model_module_version": "1.2.0",
            "_model_name": "LayoutModel",
            "_view_count": null,
            "_view_module": "@jupyter-widgets/base",
            "_view_module_version": "1.2.0",
            "_view_name": "LayoutView",
            "align_content": null,
            "align_items": null,
            "align_self": null,
            "border": null,
            "bottom": null,
            "display": null,
            "flex": null,
            "flex_flow": null,
            "grid_area": null,
            "grid_auto_columns": null,
            "grid_auto_flow": null,
            "grid_auto_rows": null,
            "grid_column": null,
            "grid_gap": null,
            "grid_row": null,
            "grid_template_areas": null,
            "grid_template_columns": null,
            "grid_template_rows": null,
            "height": null,
            "justify_content": null,
            "justify_items": null,
            "left": null,
            "margin": null,
            "max_height": null,
            "max_width": null,
            "min_height": null,
            "min_width": null,
            "object_fit": null,
            "object_position": null,
            "order": null,
            "overflow": null,
            "overflow_x": null,
            "overflow_y": null,
            "padding": null,
            "right": null,
            "top": null,
            "visibility": null,
            "width": null
          }
        },
        "a8b43b8059de42a0bec526e98b5a272d": {
          "model_module": "@jupyter-widgets/controls",
          "model_name": "ButtonStyleModel",
          "model_module_version": "1.5.0",
          "state": {
            "_model_module": "@jupyter-widgets/controls",
            "_model_module_version": "1.5.0",
            "_model_name": "ButtonStyleModel",
            "_view_count": null,
            "_view_module": "@jupyter-widgets/base",
            "_view_module_version": "1.2.0",
            "_view_name": "StyleView",
            "button_color": null,
            "font_weight": ""
          }
        }
      }
    }
  },
  "cells": [
    {
      "cell_type": "markdown",
      "source": [
        "# PDF2TXT\n",
        "### CONFIGURAÇÃO DO AMBIENTE\n",
        "Verifica se as bibliotecas neecessárias estão instaladas."
      ],
      "metadata": {
        "id": "54vPKyBp0jku"
      }
    },
    {
      "cell_type": "code",
      "source": [
        "!pip install pdfplumber ipywidgets ipyfilechooser\n"
      ],
      "metadata": {
        "colab": {
          "base_uri": "https://localhost:8080/"
        },
        "id": "0luMlQjuwdjH",
        "outputId": "c873e124-b41d-4e7f-ce0e-be63258410e7"
      },
      "execution_count": 6,
      "outputs": [
        {
          "output_type": "stream",
          "name": "stdout",
          "text": [
            "Requirement already satisfied: pdfplumber in /usr/local/lib/python3.11/dist-packages (0.11.5)\n",
            "Requirement already satisfied: ipywidgets in /usr/local/lib/python3.11/dist-packages (7.7.1)\n",
            "Requirement already satisfied: ipyfilechooser in /usr/local/lib/python3.11/dist-packages (0.6.0)\n",
            "Requirement already satisfied: pdfminer.six==20231228 in /usr/local/lib/python3.11/dist-packages (from pdfplumber) (20231228)\n",
            "Requirement already satisfied: Pillow>=9.1 in /usr/local/lib/python3.11/dist-packages (from pdfplumber) (11.1.0)\n",
            "Requirement already satisfied: pypdfium2>=4.18.0 in /usr/local/lib/python3.11/dist-packages (from pdfplumber) (4.30.1)\n",
            "Requirement already satisfied: charset-normalizer>=2.0.0 in /usr/local/lib/python3.11/dist-packages (from pdfminer.six==20231228->pdfplumber) (3.4.1)\n",
            "Requirement already satisfied: cryptography>=36.0.0 in /usr/local/lib/python3.11/dist-packages (from pdfminer.six==20231228->pdfplumber) (43.0.3)\n",
            "Requirement already satisfied: ipykernel>=4.5.1 in /usr/local/lib/python3.11/dist-packages (from ipywidgets) (5.5.6)\n",
            "Requirement already satisfied: ipython-genutils~=0.2.0 in /usr/local/lib/python3.11/dist-packages (from ipywidgets) (0.2.0)\n",
            "Requirement already satisfied: traitlets>=4.3.1 in /usr/local/lib/python3.11/dist-packages (from ipywidgets) (5.7.1)\n",
            "Requirement already satisfied: widgetsnbextension~=3.6.0 in /usr/local/lib/python3.11/dist-packages (from ipywidgets) (3.6.10)\n",
            "Requirement already satisfied: ipython>=4.0.0 in /usr/local/lib/python3.11/dist-packages (from ipywidgets) (7.34.0)\n",
            "Requirement already satisfied: jupyterlab-widgets>=1.0.0 in /usr/local/lib/python3.11/dist-packages (from ipywidgets) (3.0.13)\n",
            "Requirement already satisfied: jupyter-client in /usr/local/lib/python3.11/dist-packages (from ipykernel>=4.5.1->ipywidgets) (6.1.12)\n",
            "Requirement already satisfied: tornado>=4.2 in /usr/local/lib/python3.11/dist-packages (from ipykernel>=4.5.1->ipywidgets) (6.4.2)\n",
            "Requirement already satisfied: setuptools>=18.5 in /usr/local/lib/python3.11/dist-packages (from ipython>=4.0.0->ipywidgets) (75.1.0)\n",
            "Requirement already satisfied: jedi>=0.16 in /usr/local/lib/python3.11/dist-packages (from ipython>=4.0.0->ipywidgets) (0.19.2)\n",
            "Requirement already satisfied: decorator in /usr/local/lib/python3.11/dist-packages (from ipython>=4.0.0->ipywidgets) (4.4.2)\n",
            "Requirement already satisfied: pickleshare in /usr/local/lib/python3.11/dist-packages (from ipython>=4.0.0->ipywidgets) (0.7.5)\n",
            "Requirement already satisfied: prompt-toolkit!=3.0.0,!=3.0.1,<3.1.0,>=2.0.0 in /usr/local/lib/python3.11/dist-packages (from ipython>=4.0.0->ipywidgets) (3.0.50)\n",
            "Requirement already satisfied: pygments in /usr/local/lib/python3.11/dist-packages (from ipython>=4.0.0->ipywidgets) (2.18.0)\n",
            "Requirement already satisfied: backcall in /usr/local/lib/python3.11/dist-packages (from ipython>=4.0.0->ipywidgets) (0.2.0)\n",
            "Requirement already satisfied: matplotlib-inline in /usr/local/lib/python3.11/dist-packages (from ipython>=4.0.0->ipywidgets) (0.1.7)\n",
            "Requirement already satisfied: pexpect>4.3 in /usr/local/lib/python3.11/dist-packages (from ipython>=4.0.0->ipywidgets) (4.9.0)\n",
            "Requirement already satisfied: notebook>=4.4.1 in /usr/local/lib/python3.11/dist-packages (from widgetsnbextension~=3.6.0->ipywidgets) (6.5.5)\n",
            "Requirement already satisfied: cffi>=1.12 in /usr/local/lib/python3.11/dist-packages (from cryptography>=36.0.0->pdfminer.six==20231228->pdfplumber) (1.17.1)\n",
            "Requirement already satisfied: parso<0.9.0,>=0.8.4 in /usr/local/lib/python3.11/dist-packages (from jedi>=0.16->ipython>=4.0.0->ipywidgets) (0.8.4)\n",
            "Requirement already satisfied: jinja2 in /usr/local/lib/python3.11/dist-packages (from notebook>=4.4.1->widgetsnbextension~=3.6.0->ipywidgets) (3.1.5)\n",
            "Requirement already satisfied: pyzmq<25,>=17 in /usr/local/lib/python3.11/dist-packages (from notebook>=4.4.1->widgetsnbextension~=3.6.0->ipywidgets) (24.0.1)\n",
            "Requirement already satisfied: argon2-cffi in /usr/local/lib/python3.11/dist-packages (from notebook>=4.4.1->widgetsnbextension~=3.6.0->ipywidgets) (23.1.0)\n",
            "Requirement already satisfied: jupyter-core>=4.6.1 in /usr/local/lib/python3.11/dist-packages (from notebook>=4.4.1->widgetsnbextension~=3.6.0->ipywidgets) (5.7.2)\n",
            "Requirement already satisfied: nbformat in /usr/local/lib/python3.11/dist-packages (from notebook>=4.4.1->widgetsnbextension~=3.6.0->ipywidgets) (5.10.4)\n",
            "Requirement already satisfied: nbconvert>=5 in /usr/local/lib/python3.11/dist-packages (from notebook>=4.4.1->widgetsnbextension~=3.6.0->ipywidgets) (7.16.6)\n",
            "Requirement already satisfied: nest-asyncio>=1.5 in /usr/local/lib/python3.11/dist-packages (from notebook>=4.4.1->widgetsnbextension~=3.6.0->ipywidgets) (1.6.0)\n",
            "Requirement already satisfied: Send2Trash>=1.8.0 in /usr/local/lib/python3.11/dist-packages (from notebook>=4.4.1->widgetsnbextension~=3.6.0->ipywidgets) (1.8.3)\n",
            "Requirement already satisfied: terminado>=0.8.3 in /usr/local/lib/python3.11/dist-packages (from notebook>=4.4.1->widgetsnbextension~=3.6.0->ipywidgets) (0.18.1)\n",
            "Requirement already satisfied: prometheus-client in /usr/local/lib/python3.11/dist-packages (from notebook>=4.4.1->widgetsnbextension~=3.6.0->ipywidgets) (0.21.1)\n",
            "Requirement already satisfied: nbclassic>=0.4.7 in /usr/local/lib/python3.11/dist-packages (from notebook>=4.4.1->widgetsnbextension~=3.6.0->ipywidgets) (1.2.0)\n",
            "Requirement already satisfied: python-dateutil>=2.1 in /usr/local/lib/python3.11/dist-packages (from jupyter-client->ipykernel>=4.5.1->ipywidgets) (2.8.2)\n",
            "Requirement already satisfied: ptyprocess>=0.5 in /usr/local/lib/python3.11/dist-packages (from pexpect>4.3->ipython>=4.0.0->ipywidgets) (0.7.0)\n",
            "Requirement already satisfied: wcwidth in /usr/local/lib/python3.11/dist-packages (from prompt-toolkit!=3.0.0,!=3.0.1,<3.1.0,>=2.0.0->ipython>=4.0.0->ipywidgets) (0.2.13)\n",
            "Requirement already satisfied: pycparser in /usr/local/lib/python3.11/dist-packages (from cffi>=1.12->cryptography>=36.0.0->pdfminer.six==20231228->pdfplumber) (2.22)\n",
            "Requirement already satisfied: platformdirs>=2.5 in /usr/local/lib/python3.11/dist-packages (from jupyter-core>=4.6.1->notebook>=4.4.1->widgetsnbextension~=3.6.0->ipywidgets) (4.3.6)\n",
            "Requirement already satisfied: notebook-shim>=0.2.3 in /usr/local/lib/python3.11/dist-packages (from nbclassic>=0.4.7->notebook>=4.4.1->widgetsnbextension~=3.6.0->ipywidgets) (0.2.4)\n",
            "Requirement already satisfied: beautifulsoup4 in /usr/local/lib/python3.11/dist-packages (from nbconvert>=5->notebook>=4.4.1->widgetsnbextension~=3.6.0->ipywidgets) (4.12.3)\n",
            "Requirement already satisfied: bleach!=5.0.0 in /usr/local/lib/python3.11/dist-packages (from bleach[css]!=5.0.0->nbconvert>=5->notebook>=4.4.1->widgetsnbextension~=3.6.0->ipywidgets) (6.2.0)\n",
            "Requirement already satisfied: defusedxml in /usr/local/lib/python3.11/dist-packages (from nbconvert>=5->notebook>=4.4.1->widgetsnbextension~=3.6.0->ipywidgets) (0.7.1)\n",
            "Requirement already satisfied: jupyterlab-pygments in /usr/local/lib/python3.11/dist-packages (from nbconvert>=5->notebook>=4.4.1->widgetsnbextension~=3.6.0->ipywidgets) (0.3.0)\n",
            "Requirement already satisfied: markupsafe>=2.0 in /usr/local/lib/python3.11/dist-packages (from nbconvert>=5->notebook>=4.4.1->widgetsnbextension~=3.6.0->ipywidgets) (3.0.2)\n",
            "Requirement already satisfied: mistune<4,>=2.0.3 in /usr/local/lib/python3.11/dist-packages (from nbconvert>=5->notebook>=4.4.1->widgetsnbextension~=3.6.0->ipywidgets) (3.1.1)\n",
            "Requirement already satisfied: nbclient>=0.5.0 in /usr/local/lib/python3.11/dist-packages (from nbconvert>=5->notebook>=4.4.1->widgetsnbextension~=3.6.0->ipywidgets) (0.10.2)\n",
            "Requirement already satisfied: packaging in /usr/local/lib/python3.11/dist-packages (from nbconvert>=5->notebook>=4.4.1->widgetsnbextension~=3.6.0->ipywidgets) (24.2)\n",
            "Requirement already satisfied: pandocfilters>=1.4.1 in /usr/local/lib/python3.11/dist-packages (from nbconvert>=5->notebook>=4.4.1->widgetsnbextension~=3.6.0->ipywidgets) (1.5.1)\n",
            "Requirement already satisfied: fastjsonschema>=2.15 in /usr/local/lib/python3.11/dist-packages (from nbformat->notebook>=4.4.1->widgetsnbextension~=3.6.0->ipywidgets) (2.21.1)\n",
            "Requirement already satisfied: jsonschema>=2.6 in /usr/local/lib/python3.11/dist-packages (from nbformat->notebook>=4.4.1->widgetsnbextension~=3.6.0->ipywidgets) (4.23.0)\n",
            "Requirement already satisfied: six>=1.5 in /usr/local/lib/python3.11/dist-packages (from python-dateutil>=2.1->jupyter-client->ipykernel>=4.5.1->ipywidgets) (1.17.0)\n",
            "Requirement already satisfied: argon2-cffi-bindings in /usr/local/lib/python3.11/dist-packages (from argon2-cffi->notebook>=4.4.1->widgetsnbextension~=3.6.0->ipywidgets) (21.2.0)\n",
            "Requirement already satisfied: webencodings in /usr/local/lib/python3.11/dist-packages (from bleach!=5.0.0->bleach[css]!=5.0.0->nbconvert>=5->notebook>=4.4.1->widgetsnbextension~=3.6.0->ipywidgets) (0.5.1)\n",
            "Requirement already satisfied: tinycss2<1.5,>=1.1.0 in /usr/local/lib/python3.11/dist-packages (from bleach[css]!=5.0.0->nbconvert>=5->notebook>=4.4.1->widgetsnbextension~=3.6.0->ipywidgets) (1.4.0)\n",
            "Requirement already satisfied: attrs>=22.2.0 in /usr/local/lib/python3.11/dist-packages (from jsonschema>=2.6->nbformat->notebook>=4.4.1->widgetsnbextension~=3.6.0->ipywidgets) (25.1.0)\n",
            "Requirement already satisfied: jsonschema-specifications>=2023.03.6 in /usr/local/lib/python3.11/dist-packages (from jsonschema>=2.6->nbformat->notebook>=4.4.1->widgetsnbextension~=3.6.0->ipywidgets) (2024.10.1)\n",
            "Requirement already satisfied: referencing>=0.28.4 in /usr/local/lib/python3.11/dist-packages (from jsonschema>=2.6->nbformat->notebook>=4.4.1->widgetsnbextension~=3.6.0->ipywidgets) (0.36.2)\n",
            "Requirement already satisfied: rpds-py>=0.7.1 in /usr/local/lib/python3.11/dist-packages (from jsonschema>=2.6->nbformat->notebook>=4.4.1->widgetsnbextension~=3.6.0->ipywidgets) (0.22.3)\n",
            "Requirement already satisfied: jupyter-server<3,>=1.8 in /usr/local/lib/python3.11/dist-packages (from notebook-shim>=0.2.3->nbclassic>=0.4.7->notebook>=4.4.1->widgetsnbextension~=3.6.0->ipywidgets) (1.24.0)\n",
            "Requirement already satisfied: soupsieve>1.2 in /usr/local/lib/python3.11/dist-packages (from beautifulsoup4->nbconvert>=5->notebook>=4.4.1->widgetsnbextension~=3.6.0->ipywidgets) (2.6)\n",
            "Requirement already satisfied: anyio<4,>=3.1.0 in /usr/local/lib/python3.11/dist-packages (from jupyter-server<3,>=1.8->notebook-shim>=0.2.3->nbclassic>=0.4.7->notebook>=4.4.1->widgetsnbextension~=3.6.0->ipywidgets) (3.7.1)\n",
            "Requirement already satisfied: websocket-client in /usr/local/lib/python3.11/dist-packages (from jupyter-server<3,>=1.8->notebook-shim>=0.2.3->nbclassic>=0.4.7->notebook>=4.4.1->widgetsnbextension~=3.6.0->ipywidgets) (1.8.0)\n",
            "Requirement already satisfied: typing-extensions>=4.4.0 in /usr/local/lib/python3.11/dist-packages (from referencing>=0.28.4->jsonschema>=2.6->nbformat->notebook>=4.4.1->widgetsnbextension~=3.6.0->ipywidgets) (4.12.2)\n",
            "Requirement already satisfied: idna>=2.8 in /usr/local/lib/python3.11/dist-packages (from anyio<4,>=3.1.0->jupyter-server<3,>=1.8->notebook-shim>=0.2.3->nbclassic>=0.4.7->notebook>=4.4.1->widgetsnbextension~=3.6.0->ipywidgets) (3.10)\n",
            "Requirement already satisfied: sniffio>=1.1 in /usr/local/lib/python3.11/dist-packages (from anyio<4,>=3.1.0->jupyter-server<3,>=1.8->notebook-shim>=0.2.3->nbclassic>=0.4.7->notebook>=4.4.1->widgetsnbextension~=3.6.0->ipywidgets) (1.3.1)\n"
          ]
        }
      ]
    },
    {
      "cell_type": "markdown",
      "source": [
        "## IMPORTAÇÃO DAS BIBLIOTECAS\n",
        "pdfplumber para a extração de texto\n",
        "ipywidgets para o upload interativo de arquivos."
      ],
      "metadata": {
        "id": "hWbepBM7wfV-"
      }
    },
    {
      "cell_type": "code",
      "source": [
        "import base64\n",
        "from io import BytesIO\n",
        "import pdfplumber\n",
        "import time\n",
        "import os\n",
        "from ipywidgets import FileUpload, Button, Output,VBox, HTML\n",
        "from IPython.display import display, FileLink, HTML, clear_output\n",
        "from ipyfilechooser import FileChooser\n"
      ],
      "metadata": {
        "id": "d71sGbt0wggN"
      },
      "execution_count": 22,
      "outputs": []
    },
    {
      "cell_type": "markdown",
      "source": [
        "## Widget UPLOADER\n",
        "Permite que o usuário faça o upload de múltiplos arquivos PDF para extração de texto;"
      ],
      "metadata": {
        "id": "8dDAeysjwqXm"
      }
    },
    {
      "cell_type": "code",
      "source": [
        "# Célula 3: Widget para upload do arquivo PDF\n",
        "uploader = FileUpload(accept='.pdf', multiple=True)\n",
        "display(uploader)"
      ],
      "metadata": {
        "colab": {
          "base_uri": "https://localhost:8080/",
          "height": 49,
          "referenced_widgets": [
            "00ee71a3297c4b9a8da1c62f7e2003bb",
            "98c06b64816149ceb4fa45caa50c8bd9",
            "a8b43b8059de42a0bec526e98b5a272d"
          ]
        },
        "id": "R6GshRMLwrBd",
        "outputId": "9fdae808-1b07-4ce6-c4b5-366de06dff84"
      },
      "execution_count": 30,
      "outputs": [
        {
          "output_type": "display_data",
          "data": {
            "text/plain": [
              "FileUpload(value={}, accept='.pdf', description='Upload', multiple=True)"
            ],
            "application/vnd.jupyter.widget-view+json": {
              "version_major": 2,
              "version_minor": 0,
              "model_id": "00ee71a3297c4b9a8da1c62f7e2003bb"
            }
          },
          "metadata": {}
        }
      ]
    },
    {
      "cell_type": "markdown",
      "source": [
        "## EXTRAÇÃO DO TEXTO\n",
        "O código aguarda o upload do arquivo.\n",
        "Para cada PDF enviado, ele abre o arquivo e itera por cada página, extraindo o texto disponível.\n",
        "O texto extraído é disponibiilizado para download.\n",
        "Automaticamente, o texto é salvo em um arquivo .txt cujo nome é derivado do nome original do PDF.\n",
        "Extrai o texto de cada página (ignorando as imagens).\n",
        "Cria um conteúdo TXT cujo nome é baseado no nome do PDF."
      ],
      "metadata": {
        "id": "1EC4mi9twcqN"
      }
    },
    {
      "cell_type": "code",
      "execution_count": 29,
      "metadata": {
        "colab": {
          "base_uri": "https://localhost:8080/",
          "height": 34
        },
        "id": "bXR7pM1GwRK3",
        "outputId": "a1908573-6466-453a-ccc5-c7d8909bc85a"
      },
      "outputs": [
        {
          "output_type": "display_data",
          "data": {
            "text/plain": [
              "<IPython.core.display.HTML object>"
            ],
            "text/html": [
              "<a download=\"MITM_extraido.txt\" href=\"data:text/plain;base64,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\" target=\"_blank\">Clique aqui para baixar o arquivo MITM_extraido.txt</a>"
            ]
          },
          "metadata": {}
        }
      ],
      "source": [
        "# Aguarda até que pelo menos um arquivo seja carregado\n",
        "while not uploader.value:\n",
        "    time.sleep(0.5)\n",
        "\n",
        "# Lista para armazenar os widgets de download para cada arquivo\n",
        "botoes_download = []\n",
        "\n",
        "# Processa cada arquivo PDF enviado\n",
        "for filename, file_info in uploader.value.items():\n",
        "    print(f\"Processando: {filename}\")\n",
        "    # Cria um objeto BytesIO a partir do conteúdo do arquivo\n",
        "    pdf_bytes = BytesIO(file_info['content'])\n",
        "\n",
        "    # Abre o PDF e extrai o texto\n",
        "    with pdfplumber.open(pdf_bytes) as pdf:\n",
        "        texto_extraido = \"\"\n",
        "        for i, page in enumerate(pdf.pages):\n",
        "            page_text = page.extract_text()\n",
        "            if page_text:\n",
        "                texto_extraido += f\"\\n--- Página {i+1} ---\\n{page_text}\"\n",
        "            else:\n",
        "                texto_extraido += f\"\\n--- Página {i+1} não contém texto extraível. ---\\n\"\n",
        "\n",
        "    # Define o nome do arquivo TXT (ex.: documento_extraido.txt)\n",
        "    nome_txt = filename.replace('.pdf', '_extraido.txt')\n",
        "\n",
        "    # Função para criar um \"botão\" de download (link HTML com aparência de botão)\n",
        "    def criar_botao_download(texto, nome_arquivo):\n",
        "        \"\"\"\n",
        "        Cria um HTML que se apresenta como um botão para download do conteúdo passado.\n",
        "        \"\"\"\n",
        "        # Codifica o texto em Base64\n",
        "        b64 = base64.b64encode(texto.encode(\"utf-8\")).decode(\"utf-8\")\n",
        "        # Cria um link com o atributo download e formata com um botão\n",
        "        html = (\n",
        "            f'<a download=\"{nome_arquivo}\" '\n",
        "            f'href=\"data:text/plain;base64,{b64}\" target=\"_blank\">'\n",
        "            f'<button style=\"padding:10px; font-size:16px; margin:5px;\">'\n",
        "            f'Clique aqui para baixar o arquivo {nome_arquivo}'\n",
        "            f'</button></a>'\n",
        "        )\n",
        "        return HTML(html)\n",
        "\n",
        "    # Cria o botão de download para o arquivo atual\n",
        "    botao = criar_botao_download(texto_extraido, nome_txt)\n",
        "    botoes_download.append(botao)\n",
        "\n",
        "    # Exibe também o texto extraído (opcional)\n",
        "    print(f\"Texto extraído de {filename}:\")\n",
        "    print(texto_extraido)\n",
        "    print(\"\\n\" + \"=\"*80 + \"\\n\")\n",
        "\n",
        "# Exibe todos os botões de download\n",
        "display(VBox(botoes_download))\n"
      ]
    },
    {
      "cell_type": "markdown",
      "source": [],
      "metadata": {
        "id": "GsYDtkMN2ouS"
      }
    },
    {
      "cell_type": "markdown",
      "source": [
        "## DOWNLOAD DO ARQUIVO TXT\n",
        "o usuário poderá escolher a pasta onde deseja salvar o arquivo .txt por meio de um seletor de diretórios. Após clicar no botão, o arquivo será salvo e um link para download será exibido."
      ],
      "metadata": {
        "id": "P2b0spn5zh4p"
      }
    },
    {
      "cell_type": "code",
      "source": [
        "def criar_link_download(texto, nome_arquivo):\n",
        "    \"\"\"\n",
        "    Cria um link HTML que permite o download do conteúdo passado como string.\n",
        "    \"\"\"\n",
        "    # Codifica o texto em Base64\n",
        "    b64 = base64.b64encode(texto.encode()).decode()\n",
        "    # Cria um link com o atributo download\n",
        "    html = (\n",
        "        f'<a download=\"{nome_arquivo}\" '\n",
        "        f'href=\"data:text/plain;base64,{b64}\" target=\"_blank\">'\n",
        "        f'Clique aqui para baixar o arquivo {nome_arquivo}</a>'\n",
        "    )\n",
        "    return HTML(html)\n",
        "\n",
        "# Exibe o link para download\n",
        "display(criar_link_download(texto_extraido, nome_txt))\n"
      ],
      "metadata": {
        "id": "v_zw548o70-d"
      },
      "execution_count": null,
      "outputs": []
    }
  ]
}