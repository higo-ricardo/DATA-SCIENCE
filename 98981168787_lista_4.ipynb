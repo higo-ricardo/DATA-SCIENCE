{
  "cells": [
    {
      "cell_type": "markdown",
      "metadata": {
        "id": "QIqlpGj_tRJo"
      },
      "source": [
        "![WhatsApp%20Image%202023-09-10%20at%2011.20.28.jpeg](attachment:WhatsApp%20Image%202023-09-10%20at%2011.20.28.jpeg)\n"
      ]
    },
    {
      "cell_type": "markdown",
      "metadata": {
        "id": "vA6hkiL_tRJs"
      },
      "source": [
        "### Fala devs, blz??\n",
        "\n",
        "Esta será nossa quarta lista de exercícios para você testar seu conhecimento acerca do conteúdo do MÓDULO 2:\n",
        "\n",
        "-Introdução a bibliotecas\n",
        "\n",
        "-Numpy\n"
      ]
    },
    {
      "cell_type": "markdown",
      "metadata": {
        "id": "_mSlg6RCtRJs"
      },
      "source": [
        "## INSTRUÇÕES:\n",
        "\n",
        "A lista deve ser realizada pelo Jupyter Notebook.\n",
        "\n",
        "Nâo é necessário entregar a lista para afins de certificado dentro da plataforma, entretanto para alunos da USP que queiram participar do processo seletivo ou conseguir créditos AAC (apenas FEANOS) é necessária a entrega de TODAS as listas.\n",
        "\n",
        "A entrega das listas ou pelo menos sua excecução é recomendada a fim de exercitar todo o conhecimento adquirido do curso.\n",
        "\n",
        "O DESAFIO é para realmente te desafiar, por isso não desista de tentar e de continuar com o curso, ao longo das listas você verá que cada vez mais você terá ferramentas para completá-lo.\n",
        "\n",
        "Caso haja alguma dúvida acerca da lista participe das monitorias que serão oferecidas as quintas e sábados das 17h as 18h pelo DISCORD. Caso seu problema não seje resolvido envie uma mensagem para contato.feadev@gmail.com\n",
        "\n",
        "O gabarito será disponibilizado na plataforma após o término de periodo de envio\n",
        "\n"
      ]
    },
    {
      "cell_type": "code",
      "execution_count": null,
      "metadata": {
        "id": "kDNepWY8tRJt"
      },
      "outputs": [],
      "source": [
        "## vamos começar??"
      ]
    },
    {
      "cell_type": "markdown",
      "metadata": {
        "id": "j2dEmU61tRJt"
      },
      "source": [
        "## QUESTÃO 0"
      ]
    },
    {
      "cell_type": "markdown",
      "metadata": {
        "id": "mEebrhwwtRJu"
      },
      "source": [
        "**Simulação de um Cassino**\n",
        "\n",
        "Você está desenvolvendo um programa de simulação de cassino em Python. Importe a biblioteca random para criar uma função que simule um jogo de roleta. A função deve retornar o número onde a bola da roleta parou."
      ]
    },
    {
      "cell_type": "markdown",
      "metadata": {
        "id": "b3y3PNiztRJu"
      },
      "source": [
        "![Captura%20de%20tela%202023-10-25%20202734.png](attachment:Captura%20de%20tela%202023-10-25%20202734.png)"
      ]
    },
    {
      "cell_type": "code",
      "execution_count": 1,
      "metadata": {
        "colab": {
          "base_uri": "https://localhost:8080/"
        },
        "id": "w2QCFJ7OtRJu",
        "outputId": "ab2e683a-c6c6-4edf-a61f-fc4a05104c4c"
      },
      "outputs": [
        {
          "output_type": "stream",
          "name": "stdout",
          "text": [
            "*********************************\n",
            "******BEM-VINDO AO CASSINO!******\n",
            "*********************************\n",
            "\n",
            "*********************************\n",
            "**********JOGO DA ROLETA!**********\n",
            "***********************************\n",
            "Informe o número de sua aposta (0-36): 22\n",
            "A sua aposta é:  22\n",
            "O número sorteado é:  16\n",
            "\u001b[1;31m\t\tInfelizmente, você perdeu!\n"
          ]
        }
      ],
      "source": [
        "# CASSINO\n",
        "import random\n",
        "import time\n",
        "\n",
        "GREEN = \"\\033[0;32m\"\n",
        "RED   = \"\\033[1;31m\"\n",
        "BLUE  = \"\\033[1;34m\"\n",
        "\n",
        "def\tjogar():\n",
        "  print('*********************************')\n",
        "  print('******BEM-VINDO AO CASSINO!******')\n",
        "  print('*********************************')\n",
        "\n",
        "# Função que gera um número como se um uma roleta\n",
        "def girando_roleta():\n",
        "  return random.randint(0,36)\n",
        "\n",
        "# Função que recebe e armazena aposta do usuário\n",
        "def jogo_da_roleta():\n",
        "  while True:\n",
        "    try:\n",
        "      print('\\n*********************************')\n",
        "      print('**********JOGO DA ROLETA!**********')\n",
        "      print('***********************************')\n",
        "      aposta = int(input(\"Informe o número de sua aposta (0-36): \"))\n",
        "      if 0 <= aposta <= 36:\n",
        "        y = aposta\n",
        "        x = girando_roleta()\n",
        "      #Comparador entre numero sorteador e aposta e dar um feedback\n",
        "        print(\"A sua aposta é: \", y)\n",
        "        print(\"O número sorteado é: \", x)\n",
        "        if x != y:\n",
        "          print(RED + \"\\t\\tInfelizmente, você perdeu!\")\n",
        "        else:\n",
        "          print(GREEN + \"\\t\\tParabéns, você ganhou!\")\n",
        "        break\n",
        "      else:\n",
        "        print(\"Digite um número entre 0 e 36.\")\n",
        "\n",
        "    except ValueError:\n",
        "      print(\"Digite apenas um número inteiro entre 0 e 36.\")\n",
        "\n",
        "jogar()\n",
        "time.sleep(3)\n",
        "jogo_da_roleta()\n"
      ]
    },
    {
      "cell_type": "markdown",
      "metadata": {
        "id": "3fHgspC7tRJv"
      },
      "source": [
        "Além disso, adicione um jogo de cartas ao seu cassino. Crie uma função chamada simular_jogo_de_cartas() que simule um jogo de cartas, como blackjack. A função deve retornar um valor aleatório representando a pontuação do jogador no jogo de cartas, que pode ser de 1 a 21."
      ]
    },
    {
      "cell_type": "code",
      "execution_count": 6,
      "metadata": {
        "id": "aAAQMqVAtRJv",
        "colab": {
          "base_uri": "https://localhost:8080/"
        },
        "outputId": "52c6a0cc-a861-4c58-ffaa-52086e0e44a7"
      },
      "outputs": [
        {
          "output_type": "stream",
          "name": "stdout",
          "text": [
            "*********************************\n",
            "******BEM-VINDO AO CASSINO!******\n",
            "*********************************\n",
            "\n",
            "Digite [1] para RECEBER CARTA ou [2] FICAR COM CARTA: 1\n",
            "[10, 1, 11, 3, 5, 2, 7, 4, 6, 9]\n",
            "8 \n",
            "Total: 8\n",
            "\n",
            "Digite [1] para RECEBER CARTA ou [2] FICAR COM CARTA: 1\n",
            "[1, 5, 9, 7, 3, 11, 4, 6, 10]\n",
            "8 2 \n",
            "Total: 10\n",
            "\n",
            "Digite [1] para RECEBER CARTA ou [2] FICAR COM CARTA: 1\n",
            "[9, 10, 7, 6, 1, 3, 11, 5]\n",
            "8 2 4 \n",
            "Total: 14\n",
            "\n",
            "Digite [1] para RECEBER CARTA ou [2] FICAR COM CARTA: 1\n",
            "[9, 3, 5, 11, 7, 6, 1]\n",
            "8 2 4 10 \n",
            "Total: 24\n",
            "\u001b[1;31m\t\tInfelizmnete, VOCÊ PERDEU!\n"
          ]
        }
      ],
      "source": [
        "# CASSINO\n",
        "import random\n",
        "import time\n",
        "\n",
        "GREEN = \"\\033[0;32m\"\n",
        "RED   = \"\\033[1;31m\"\n",
        "BLUE  = \"\\033[1;34m\"\n",
        "NEGATIVE  = \"\\033[7;34m\"\n",
        "\n",
        "def\tjogar():\n",
        "  print('*********************************')\n",
        "  print('******BEM-VINDO AO CASSINO!******')\n",
        "  print('*********************************')\n",
        "\n",
        "jogador = []\n",
        "baralho = [1, 2, 3, 4, 5, 6, 7, 8, 9, 10, 11]\n",
        "\n",
        "def dar_cartas():\n",
        "  random.shuffle(baralho)\n",
        "  z= len(baralho) -1\n",
        "  jogador.append(baralho[z])\n",
        "  baralho.pop()\n",
        "  print(baralho)\n",
        "\n",
        "def mostrar_mao(mao):\n",
        "    for carta in mao:\n",
        "        print(carta, end=' ')\n",
        "    print(f\"\\nTotal: {contar_pontos(mao)}\")\n",
        "\n",
        "def contar_pontos(mao):\n",
        "    return sum(mao)\n",
        "\n",
        "def blackjack():\n",
        "  while True:\n",
        "    try:\n",
        "      jogada = int(input(\"\\nDigite [1] para RECEBER CARTA ou [2] FICAR COM CARTA: \"))\n",
        "      if jogada == 1:\n",
        "        dar_cartas()\n",
        "        mostrar_mao(jogador)\n",
        "        total = contar_pontos(jogador)\n",
        "        if total > 21:\n",
        "         print(RED + \"\\t\\tInfelizmente, VOCÊ PERDEU!\")\n",
        "         break\n",
        "      else:\n",
        "        print(\"Você passou!\")\n",
        "\n",
        "    except ValueError:\n",
        "      print(\"Digite apenas um número inteiro entre 0 e 36.\")\n",
        "\n",
        "jogar()\n",
        "blackjack()\n"
      ]
    },
    {
      "cell_type": "markdown",
      "metadata": {
        "id": "ty3CQss8tRJv"
      },
      "source": [
        "## QUESTÃO 1\n"
      ]
    },
    {
      "cell_type": "markdown",
      "metadata": {
        "id": "FFB3KR8htRJv"
      },
      "source": [
        "O verão está chegando e você já quer colocar uma caixa d´água na sua casa para usar como piscina. Na loja de materiais de construção, o atendente informa que as caixas são vendidas em relação a área que a comporta, Sabendo que você tem um espaço para uma piscina de 5 metros de raio, calcule a área do círculo, e descubra qual caixa comprar.\n",
        "\n",
        "Lembre-se de que a fórmula para calcular a área de um círculo é A = π * r^2."
      ]
    },
    {
      "cell_type": "markdown",
      "metadata": {
        "id": "S8LGtHgFtRJw"
      },
      "source": [
        "![Captura%20de%20tela%202023-10-25%20204500.png](attachment:Captura%20de%20tela%202023-10-25%20204500.png)"
      ]
    },
    {
      "cell_type": "code",
      "execution_count": 29,
      "metadata": {
        "id": "JGqeCER9tRJw",
        "colab": {
          "base_uri": "https://localhost:8080/"
        },
        "outputId": "160e7072-da53-4f53-a40b-51903c1cb8d8"
      },
      "outputs": [
        {
          "output_type": "stream",
          "name": "stdout",
          "text": [
            "Informe o raio, em metros, do reservatório hídrico desejado: 5\n",
            "\u001b[0;32m\n",
            "A área útil da caixa d'água é 78.54m²!\n"
          ]
        }
      ],
      "source": [
        "import math\n",
        "\n",
        "# Catalogo de cores\n",
        "GREEN = \"\\033[0;32m\"\n",
        "RED   = \"\\033[1;31m\"\n",
        "BLUE  = \"\\033[1;34m\"\n",
        "\n",
        "# Algoritmo que calcula área do reservatório em função do raio fornecido pelo usuário\n",
        "def piscina(raio):\n",
        "  return math.pi*pow(raio,2)\n",
        "\n",
        "#Entrada de dados\n",
        "r = int(input(\"Informe o raio, em metros, do reservatório hídrico desejado: \"))\n",
        "\n",
        "#Saída de dados\n",
        "print (GREEN + \"\\nA área útil da caixa d'água é \"+\"{:.2f}\".format(piscina(r)) +\"m²!\")\n",
        "\n"
      ]
    },
    {
      "cell_type": "markdown",
      "metadata": {
        "id": "XHi658P8tRJw"
      },
      "source": [
        "## QUESTÃO 2\n",
        "\n"
      ]
    },
    {
      "cell_type": "markdown",
      "metadata": {
        "id": "dnZES-LEtRJw"
      },
      "source": [
        "Duvido você fazer um código que tenha como OUTPUT a data exata que você está fazendo essa questão. Vamos descobrir se você é do tipo de pessoa que aproveita o dia para fazer as tarefas ou madruga para completa-las"
      ]
    },
    {
      "cell_type": "code",
      "execution_count": 65,
      "metadata": {
        "id": "xXDF9nAFtRJw",
        "colab": {
          "base_uri": "https://localhost:8080/"
        },
        "outputId": "11aa0a56-745b-4a86-d79c-c4f60e66eddd"
      },
      "outputs": [
        {
          "output_type": "stream",
          "name": "stdout",
          "text": [
            "\u001b[0;32m\n",
            "Data atual: \u001b[0;30;43m03/11/2023\u001b[0;32m\n",
            "Hora certa: \u001b[0;30;43m12:50\n"
          ]
        }
      ],
      "source": [
        "from datetime import datetime\n",
        "NEGATIVE  = \"\\033[0;30;43m\" # fundo amarelo\n",
        "\n",
        "# Exibe a data atual no formato padrão (YYYY-MM-DD)\n",
        "hoje = datetime.now()\n",
        "texto = hoje.strftime(NEGATIVE + \"%d/%m/%Y\" + GREEN + \"\\nHora certa: \" + NEGATIVE + \"%H:%M\")\n",
        "print(GREEN + \"\\nData atual:\", texto)"
      ]
    },
    {
      "cell_type": "markdown",
      "metadata": {
        "id": "GN95jxkKtRJw"
      },
      "source": [
        "## QUESTÃO 3"
      ]
    },
    {
      "cell_type": "markdown",
      "metadata": {
        "id": "3_kgBuA3tRJx"
      },
      "source": [
        "Você está fazendo uma rifa beneficiente para ajudar uma instituição de caridade do bairro. Está na hora de sortear quem é o grande vencedor de uma ALEXA 3º geração.\n",
        "\n",
        "Instruções:\n",
        "\n",
        "lista de nomes: nomes = [\"Alice\", \"Bob\", \"Carlos\", \"Diana\", \"Eva\",\"Henrique\", \"Isadora\", \"Leandro\", \"Patricia\",\"Julia\", \"Alex\"].\n",
        "\n",
        "Importe a biblioteca random.\n",
        "\n",
        "Use random.choice() para escolher aleatoriamente um nome da lista.\n",
        "\n",
        "Exiba o nome escolhido na tela."
      ]
    },
    {
      "cell_type": "markdown",
      "metadata": {
        "id": "khGIgvcmtRJx"
      },
      "source": [
        "![Captura%20de%20tela%202023-10-25%20210513.png](attachment:Captura%20de%20tela%202023-10-25%20210513.png)"
      ]
    },
    {
      "cell_type": "code",
      "execution_count": 71,
      "metadata": {
        "id": "6PlJYY4FtRJx",
        "colab": {
          "base_uri": "https://localhost:8080/"
        },
        "outputId": "66e294a2-514e-4580-e3ac-18eab8dd06fe"
      },
      "outputs": [
        {
          "output_type": "stream",
          "name": "stdout",
          "text": [
            "Alex\n"
          ]
        }
      ],
      "source": [
        "import random\n",
        "\n",
        "nomes = [\"Alice\", \"Bob\", \"Carlos\", \"Diana\", \"Eva\",\"Henrique\", \"Isadora\", \"Leandro\", \"Patricia\",\"Julia\", \"Alex\"]\n",
        "\n",
        "# Algoritmo que escolhe um nome da lista com auxilio de uma função RANDOM.CHOICE da biblioteca RANDOM\n",
        "def sorteio():\n",
        "  return random.choice(nomes)\n",
        "\n",
        "#Saída de dados\n",
        "print (sorteio())"
      ]
    },
    {
      "cell_type": "markdown",
      "metadata": {
        "id": "ETlsxq0htRJx"
      },
      "source": [
        "## QUESTÃO 4"
      ]
    },
    {
      "cell_type": "markdown",
      "metadata": {
        "id": "-TE3g6ZGtRJx"
      },
      "source": [
        "Os Módulos 6 e 7 abordarão Pandas, entretanto vamos aquecer!!!\n",
        "Use o Pandas para ler os dados do arquivo CSV que está anexado à lista e criar um DataFrame.\n",
        "Além disso, vizualize somente as 5 primeiras linhas."
      ]
    },
    {
      "cell_type": "code",
      "execution_count": 80,
      "metadata": {
        "id": "oOUdWZuwtRJx",
        "colab": {
          "base_uri": "https://localhost:8080/"
        },
        "outputId": "04e2f3b1-ddfd-43da-a866-227f5b588cc3"
      },
      "outputs": [
        {
          "output_type": "stream",
          "name": "stdout",
          "text": [
            "Drive already mounted at /content/drive; to attempt to forcibly remount, call drive.mount(\"/content/drive\", force_remount=True).\n",
            "   Unnamed: 0  year                                              title  \\\n",
            "0           0  2019  The Home Edit: A Guide to Organizing and Reali...   \n",
            "1           1  2019                            How to Be an Antiracist   \n",
            "2           2  2019  Publication Manual of the American Psychologic...   \n",
            "3           3  2019              Official SAT Study Guide 2020 Edition   \n",
            "4           4  2019  The Little Old Lady Who Was Not Afraid of Anyt...   \n",
            "\n",
            "   isBestSelling                         subcategory  \n",
            "0           True     Do-It-Yourself Home Improvement  \n",
            "1          False                                 NaN  \n",
            "2           True                          Psychology  \n",
            "3           True                     SAT Test Guides  \n",
            "4           True  Children's Short Story Collections  \n"
          ]
        }
      ],
      "source": [
        "from google.colab import drive\n",
        "import pandas as pd\n",
        "\n",
        "#Montagem do Drive\n",
        "drive.mount('/content/drive')\n",
        "\n",
        "#Variável que armazena o caminho para o seu arquivo CSV, verifique se está no mesmo local do notebook\n",
        "arquivo = \"/content/drive/MyDrive/Colab Notebooks/books2019file.csv\"\n",
        "\n",
        "#Lê os dados do arquivo CSV em um DataFrame do Pandas\n",
        "dados = pd.read_csv(arquivo)\n",
        "\n",
        "#Exibe as 5 primeiras linhas do DataFrame\n",
        "print(dados.head(5))\n"
      ]
    },
    {
      "cell_type": "markdown",
      "metadata": {
        "id": "-p0MsDRJtRJx"
      },
      "source": [
        "## QUESTÃO 5"
      ]
    },
    {
      "cell_type": "markdown",
      "metadata": {
        "id": "xcs3IqoJtRJx"
      },
      "source": [
        "**Numpy**"
      ]
    },
    {
      "cell_type": "markdown",
      "metadata": {
        "id": "Xh1bwMXhtRJx"
      },
      "source": [
        "a) Crie um array NumPy que contenha os números inteiros de 1 a 10."
      ]
    },
    {
      "cell_type": "code",
      "execution_count": 81,
      "metadata": {
        "id": "iHJXuoh9tRJy",
        "colab": {
          "base_uri": "https://localhost:8080/"
        },
        "outputId": "99767b0b-6dad-4746-e5c9-97a80e35e71c"
      },
      "outputs": [
        {
          "output_type": "stream",
          "name": "stdout",
          "text": [
            "[ 1  2  3  4  5  6  7  8  9 10]\n"
          ]
        }
      ],
      "source": [
        "import numpy as np\n",
        "\n",
        "# Crie um array NumPy com números inteiros de 1 a 10\n",
        "array_numpy = np.arange(1, 11)\n",
        "\n",
        "print(array_numpy)\n"
      ]
    },
    {
      "cell_type": "markdown",
      "metadata": {
        "id": "oIuO--5otRJy"
      },
      "source": [
        "b)Realize operações matemáticas simples com dois arrays NumPy (1 a 5) (6 a 10) como adição, subtração, multiplicação e divisão."
      ]
    },
    {
      "cell_type": "code",
      "execution_count": 82,
      "metadata": {
        "id": "8u-83jEmtRJy",
        "colab": {
          "base_uri": "https://localhost:8080/"
        },
        "outputId": "2128597c-8ddd-4e81-8b29-36e45c2a944f"
      },
      "outputs": [
        {
          "output_type": "stream",
          "name": "stdout",
          "text": [
            "Adição: [ 7  9 11 13 15]\n",
            "Subtração: [-5 -5 -5 -5 -5]\n",
            "Multiplicação: [ 6 14 24 36 50]\n",
            "Divisão: [0.16666667 0.28571429 0.375      0.44444444 0.5       ]\n"
          ]
        }
      ],
      "source": [
        "import numpy as np\n",
        "\n",
        "# arrays NumPy com números inteiros\n",
        "array1 = np.arange(1, 6)\n",
        "array2 = np.arange(6, 11)\n",
        "\n",
        "# Adição\n",
        "soma = array1 + array2\n",
        "\n",
        "# Subtração\n",
        "subtracao = array1 - array2\n",
        "\n",
        "# Multiplicação\n",
        "multiplicacao = array1 * array2\n",
        "\n",
        "# Divisão\n",
        "divisao = array1 / array2\n",
        "\n",
        "print(\"Adição:\", soma)\n",
        "print(\"Subtração:\", subtracao)\n",
        "print(\"Multiplicação:\", multiplicacao)\n",
        "print(\"Divisão:\", divisao)\n"
      ]
    },
    {
      "cell_type": "markdown",
      "metadata": {
        "id": "Q45VPu-FtRJy"
      },
      "source": [
        "## QUESTÃO 6"
      ]
    },
    {
      "cell_type": "markdown",
      "metadata": {
        "id": "YX1B9XTttRJy"
      },
      "source": [
        "Você é um professor e deseja avaliar o desempenho dos alunos nas provas de matemática e ciências naturais da semana. Crie duas matrizes NumPy, uma representando as notas dos alunos em Matemática e outra em Ciências, e calcule a média de cada disciplina."
      ]
    },
    {
      "cell_type": "markdown",
      "metadata": {
        "id": "wDj3RcRGtRJy"
      },
      "source": [
        "![Captura%20de%20tela%202023-10-25%20212239.png](attachment:Captura%20de%20tela%202023-10-25%20212239.png)"
      ]
    },
    {
      "cell_type": "code",
      "execution_count": 83,
      "metadata": {
        "id": "pyoa8gmJtRJy",
        "colab": {
          "base_uri": "https://localhost:8080/"
        },
        "outputId": "0515d0f0-3468-4e90-8ab6-b197754dfb32"
      },
      "outputs": [
        {
          "output_type": "stream",
          "name": "stdout",
          "text": [
            "Notas de Matemática: [8.5 7.2 9.  6.8 7.5]\n",
            "Notas de Ciências: [9.2 8.9 7.8 8.6 9.5]\n",
            "Média de Matemática: 7.8\n",
            "Média de Ciências: 8.8\n"
          ]
        }
      ],
      "source": [
        "import numpy as np\n",
        "\n",
        "# Matrizes de notas dos alunos em Matemática e Ciências\n",
        "notas_matematica = np.array([8.5, 7.2, 9.0, 6.8, 7.5])\n",
        "notas_ciencias = np.array([9.2, 8.9, 7.8, 8.6, 9.5])\n",
        "\n",
        "# Variavel que recebe a média de notas obtida com NUMPY\n",
        "media_matematica = np.mean(notas_matematica)\n",
        "media_ciencias = np.mean(notas_ciencias)\n",
        "\n",
        "# Saída de dados\n",
        "print(\"Média de Matemática:\", media_matematica)\n",
        "print(\"Média de Ciências:\", media_ciencias)\n"
      ]
    },
    {
      "cell_type": "markdown",
      "metadata": {
        "id": "wj2AKfSltRJy"
      },
      "source": [
        "### DESAFIO"
      ]
    },
    {
      "cell_type": "markdown",
      "metadata": {
        "id": "HEvivv3ntRJz"
      },
      "source": [
        "Você está organizando um evento e deseja criar um gráfico visual para mostrar a quantidade de ingressos vendidos para cada categoria. Use o Matplotlib para criar um gráfico de barras simples.\n",
        "\n",
        "Instruções:\n",
        "\n",
        "Importe a biblioteca Matplotlib.\n",
        "\n",
        "Crie duas listas: uma representando as categorias de ingressos e outra representando a quantidade de ingressos vendidos em cada categoria."
      ]
    },
    {
      "cell_type": "markdown",
      "metadata": {
        "id": "hAvVmU0LtRJz"
      },
      "source": [
        "![Captura%20de%20tela%202023-10-25%20213144.png](attachment:Captura%20de%20tela%202023-10-25%20213144.png)"
      ]
    },
    {
      "cell_type": "code",
      "execution_count": 88,
      "metadata": {
        "id": "bkdPN7zntRJz"
      },
      "outputs": [],
      "source": [
        "\n",
        "import matplotlib.pyplot as plt\n",
        "\n",
        "# Dados de exemplo - tipos de ingressos e quantidade vendida\n",
        "tipos_de_ingressos = ['VIP', 'Pista', 'Camarote', 'Mezanino']\n",
        "qtd_vendida = [120, 250, 80, 40]\n"
      ]
    },
    {
      "cell_type": "markdown",
      "metadata": {
        "id": "LP3wGuDftRJz"
      },
      "source": [
        "Agora\n",
        "\n",
        "Crie um gráfico de barras usando a função bar() do Matplotlib para exibir as categorias no eixo x e a quantidade de ingressos vendidos no eixo y.\n",
        "\n",
        "Adicione rótulos ao eixo x e y usando xlabel() e ylabel().\n",
        "\n",
        "Defina um título para o gráfico usando title().\n",
        "\n",
        "Exiba o gráfico usando show()"
      ]
    },
    {
      "cell_type": "code",
      "execution_count": 89,
      "metadata": {
        "id": "TQ9Vd6RKtRJ7",
        "colab": {
          "base_uri": "https://localhost:8080/",
          "height": 475
        },
        "outputId": "7daae3fd-5a2f-464e-b95a-ce50c9b35afa"
      },
      "outputs": [
        {
          "output_type": "display_data",
          "data": {
            "text/plain": [
              "<Figure size 640x480 with 1 Axes>"
            ],
            "image/png": "[encoded data removed]"
          },
          "metadata": {}
        }
      ],
      "source": [
        "import matplotlib.pyplot as plt\n",
        "\n",
        "# Dados de exemplo - tipos de ingressos e quantidade vendida\n",
        "tipos_de_ingressos = ['VIP', 'Pista', 'Camarote', 'Mezanino']\n",
        "qtd_vendida = [120, 250, 80, 40]\n",
        "\n",
        "# Crie um gráfico de barras\n",
        "plt.bar(tipos_de_ingressos, qtd_vendida)\n",
        "\n",
        "# Adicione rótulos ao gráfico\n",
        "plt.xlabel('TIPOS')\n",
        "plt.ylabel('QUANTIDADE')\n",
        "plt.title('DISTRIBUIÇÃO DA VENDA DE INGRESSOS POR CATEGORIAS')\n",
        "\n",
        "# Exiba o gráfico\n",
        "plt.show()"
      ]
    }
  ],
  "metadata": {
    "kernelspec": {
      "display_name": "Python 3 (ipykernel)",
      "language": "python",
      "name": "python3"
    },
    "language_info": {
      "codemirror_mode": {
        "name": "ipython",
        "version": 3
      },
      "file_extension": ".py",
      "mimetype": "text/x-python",
      "name": "python",
      "nbconvert_exporter": "python",
      "pygments_lexer": "ipython3",
      "version": "3.11.4"
    },
    "colab": {
      "provenance": []
    }
  },
  "nbformat": 4,
  "nbformat_minor": 0
}