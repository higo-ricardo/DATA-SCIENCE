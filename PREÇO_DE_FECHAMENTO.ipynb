{
  "nbformat": 4,
  "nbformat_minor": 0,
  "metadata": {
    "colab": {
      "provenance": []
    },
    "kernelspec": {
      "name": "python3",
      "display_name": "Python 3"
    },
    "language_info": {
      "name": "python"
    }
  },
  "cells": [
    {
      "cell_type": "code",
      "source": [
        "!pip install yfinance pandas plotly"
      ],
      "metadata": {
        "colab": {
          "base_uri": "https://localhost:8080/"
        },
        "id": "MU6QGeQUPbSZ",
        "outputId": "32e194db-6f53-489a-dfae-4296b8c5dcef"
      },
      "execution_count": null,
      "outputs": [
        {
          "output_type": "stream",
          "name": "stdout",
          "text": [
            "Requirement already satisfied: yfinance in /usr/local/lib/python3.11/dist-packages (0.2.51)\n",
            "Requirement already satisfied: pandas in /usr/local/lib/python3.11/dist-packages (2.2.2)\n",
            "Requirement already satisfied: plotly in /usr/local/lib/python3.11/dist-packages (5.24.1)\n",
            "Requirement already satisfied: numpy>=1.16.5 in /usr/local/lib/python3.11/dist-packages (from yfinance) (1.26.4)\n",
            "Requirement already satisfied: requests>=2.31 in /usr/local/lib/python3.11/dist-packages (from yfinance) (2.32.3)\n",
            "Requirement already satisfied: multitasking>=0.0.7 in /usr/local/lib/python3.11/dist-packages (from yfinance) (0.0.11)\n",
            "Requirement already satisfied: lxml>=4.9.1 in /usr/local/lib/python3.11/dist-packages (from yfinance) (5.3.0)\n",
            "Requirement already satisfied: platformdirs>=2.0.0 in /usr/local/lib/python3.11/dist-packages (from yfinance) (4.3.6)\n",
            "Requirement already satisfied: pytz>=2022.5 in /usr/local/lib/python3.11/dist-packages (from yfinance) (2024.2)\n",
            "Requirement already satisfied: frozendict>=2.3.4 in /usr/local/lib/python3.11/dist-packages (from yfinance) (2.4.6)\n",
            "Requirement already satisfied: peewee>=3.16.2 in /usr/local/lib/python3.11/dist-packages (from yfinance) (3.17.8)\n",
            "Requirement already satisfied: beautifulsoup4>=4.11.1 in /usr/local/lib/python3.11/dist-packages (from yfinance) (4.12.3)\n",
            "Requirement already satisfied: html5lib>=1.1 in /usr/local/lib/python3.11/dist-packages (from yfinance) (1.1)\n",
            "Requirement already satisfied: python-dateutil>=2.8.2 in /usr/local/lib/python3.11/dist-packages (from pandas) (2.8.2)\n",
            "Requirement already satisfied: tzdata>=2022.7 in /usr/local/lib/python3.11/dist-packages (from pandas) (2024.2)\n",
            "Requirement already satisfied: tenacity>=6.2.0 in /usr/local/lib/python3.11/dist-packages (from plotly) (9.0.0)\n",
            "Requirement already satisfied: packaging in /usr/local/lib/python3.11/dist-packages (from plotly) (24.2)\n",
            "Requirement already satisfied: soupsieve>1.2 in /usr/local/lib/python3.11/dist-packages (from beautifulsoup4>=4.11.1->yfinance) (2.6)\n",
            "Requirement already satisfied: six>=1.9 in /usr/local/lib/python3.11/dist-packages (from html5lib>=1.1->yfinance) (1.17.0)\n",
            "Requirement already satisfied: webencodings in /usr/local/lib/python3.11/dist-packages (from html5lib>=1.1->yfinance) (0.5.1)\n",
            "Requirement already satisfied: charset-normalizer<4,>=2 in /usr/local/lib/python3.11/dist-packages (from requests>=2.31->yfinance) (3.4.1)\n",
            "Requirement already satisfied: idna<4,>=2.5 in /usr/local/lib/python3.11/dist-packages (from requests>=2.31->yfinance) (3.10)\n",
            "Requirement already satisfied: urllib3<3,>=1.21.1 in /usr/local/lib/python3.11/dist-packages (from requests>=2.31->yfinance) (2.3.0)\n",
            "Requirement already satisfied: certifi>=2017.4.17 in /usr/local/lib/python3.11/dist-packages (from requests>=2.31->yfinance) (2024.12.14)\n"
          ]
        }
      ]
    },
    {
      "cell_type": "markdown",
      "source": [
        "Função de gráfico candlestick\n",
        "Função mapa de calor\n",
        "Função taxaSelic\n",
        "Função decomposição em série\n"
      ],
      "metadata": {
        "id": "R4pRV00dPbsQ"
      }
    },
    {
      "cell_type": "code",
      "source": [
        "import yfinance as yf\n",
        "import pandas as pd\n",
        "import re\n",
        "\n",
        "# DESCRIÇÃO DOS ATIVOS\n",
        "ativos_b3 = {\n",
        "    \"GOAU4\": {\"nome\": \"Gerdau\", \"setor\": \"Construção\", \"tipo\": \"Ação Preferencial\"},\n",
        "    \"PETR4\": {\"nome\": \"Petrobras\", \"setor\": \"Petróleo, Gás e Biocombustíveis\", \"tipo\": \"Ação Preferencial\"},\n",
        "    \"PETR3\": {\"nome\": \"Petrobras\", \"setor\": \"Petróleo, Gás e Biocombustíveis\", \"tipo\": \"Ação Ordinária\"},\n",
        "    \"VALE3\": {\"nome\": \"Vale\", \"setor\": \"Mineração\", \"tipo\": \"Ação Ordinária\"},\n",
        "    \"GOLL4\": {\"nome\": \"GOL\", \"setor\": \"Consumo\", \"tipo\": \"Ação Preferencial\"},\n",
        "    \"ITUB4\": {\"nome\": \"Itaú Unibanco\", \"setor\": \"Financeiro\", \"tipo\": \"Ação Preferencial\"},\n",
        "    \"MGLU3\": {\"nome\": \"Magazine Luiza\", \"setor\": \"Consumo\", \"tipo\": \"Ação Ordinária\"},\n",
        "    \"BBDC4\": {\"nome\": \"Bradesco\", \"setor\": \"Financeiro\", \"tipo\": \"Ação Preferencial\"},\n",
        "    \"BBDC3\": {\"nome\": \"Bradesco\", \"setor\": \"Financeiro\", \"tipo\": \"Ação Ordinária\"},\n",
        "    \"ABEV3\": {\"nome\": \"Ambev\", \"setor\": \"Bebidas\", \"tipo\": \"Ação Ordinária\"},\n",
        "    \"WEGE3\": {\"nome\": \"WEG\", \"setor\": \"Bens Industriais\", \"tipo\": \"Ação Ordinária\"},\n",
        "    \"ITSA4\": {\"nome\": \"Itausa\", \"setor\": \"Bens Industriais\", \"tipo\": \"Ação Preferencial\"},\n",
        "    \"B3SA3\": {\"nome\": \"B3\", \"setor\": \"Bens Industriais\", \"tipo\": \"Ação Ordinária\"},\n",
        "    \"BBAS3\": {\"nome\": \"Banco do Brasil\", \"setor\": \"Financeiro\", \"tipo\": \"Ação Ordinária\"},\n",
        "    \"BBSE3\": {\"nome\": \"BB Seguridade\", \"setor\": \"Financeiro\", \"tipo\": \"Ação Ordinária\"},\n",
        "    \"CMIG4\": {\"nome\": \"CEMIG\", \"setor\": \"Energia\", \"tipo\": \"Ação Preferencial\"},\n",
        "    \"TAEE4\": {\"nome\": \"Taesa\", \"setor\": \"Construção\", \"tipo\": \"Ação Preferencial\"},\n",
        "    \"LREN3\": {\"nome\": \"Lojas Renner\", \"setor\": \"Consumo\", \"tipo\": \"Ação Ordinária\"},\n",
        "    \"XPLG11\": {\"nome\": \"XP Logistica\", \"setor\": \"Logística\", \"tipo\": \"Fundo Imobiliário de Investimento\"},\n",
        "    \"XPML11\": {\"nome\": \"XP MALL\", \"setor\": \"Logística\", \"tipo\": \"Fundo Imobiliário de Investimento\"},\n",
        "    \"VISC11\": {\"nome\": \"VISCONDE\", \"setor\": \"Logística\", \"tipo\": \"Fundo Imobiliário de Investimento\"},\n",
        "    \"BTLG11\": {\"nome\": \"BTG Pactual\", \"setor\": \"Logística\", \"tipo\": \"Fundo Imobiliário de Investimento\"},\n",
        "    \"KNCR11\": {\"nome\": \"Kinea Rendimentos\", \"setor\": \"Papéis\", \"tipo\": \"Fundo Imobiliário de Investimento\"},\n",
        "    \"CXSE3\": {\"nome\": \"CAIXA Seguridade\", \"setor\": \"Financeiro\", \"tipo\": \"Ação Ordinária\"},\n",
        "}\n",
        "\n",
        "# Função para extrair o número e o tipo de tempo da string\n",
        "def numeros(periodo):\n",
        "    # Captura a parte numérica (número) e a parte não numérica (tempo)\n",
        "    digits = re.match(r\"(\\d+)(\\D+)\", periodo)\n",
        "\n",
        "    if digits:\n",
        "        numero = digits.group(1)  # Extrai a parte numérica\n",
        "        tempo_str = digits.group(2).strip().lower()  # Extrai a parte não numérica e a converte para minúsculas\n",
        "\n",
        "        if tempo_str == 'y':\n",
        "            tempo = \"anos\"\n",
        "        elif tempo_str == 'mo':\n",
        "            tempo = \"meses\"\n",
        "        elif tempo_str == 'w':\n",
        "            tempo = \"semanas\"\n",
        "        elif tempo_str == 'd':\n",
        "            tempo = \"dias\"\n",
        "        else:\n",
        "            print(\"Erro: Tempo não reconhecido.\")\n",
        "            return None, None\n",
        "\n",
        "        return numero, tempo\n",
        "    else:\n",
        "        print(\"Erro ao extrair o número e o tempo do período.\")\n",
        "        return None, None\n",
        "\n",
        "def buscar_dados_ativo():\n",
        "    # Solicita ao usuário a entrada do ativo\n",
        "    ativo = input(\"Digite o código do ativo listado na B3 (ex: PETR4): \").upper()\n",
        "\n",
        "    # Verifica se o ativo está no dicionário\n",
        "    if ativos_b3:\n",
        "        print(f\"Ativo encontrado: {ativos_b3[ativo]}\")\n",
        "\n",
        "        # Concatena \".SA\" ao final para buscar na B3 via Yahoo Finance\n",
        "        ticker = f\"{ativo}.SA\"\n",
        "\n",
        "        # Obtém os dados históricos do ativo\n",
        "        print(f\"Buscando dados para o ativo {ativo}...\")\n",
        "        dados = yf.download(ticker, period=\"1mo\")  # Obtém os últimos 30 dias\n",
        "\n",
        "        # Verifica se os dados foram retornados\n",
        "        if not dados.empty:\n",
        "            # Cria um DataFrame com os valores de fechamento (Close)\n",
        "            df = pd.DataFrame(dados['Close'])\n",
        "            df.reset_index(inplace=True)  # Reseta o índice para facilitar a visualização\n",
        "            df['Date'] = df['Date'].dt.strftime('%d/%m/%Y')\n",
        "            df.rename(columns={'Date': 'DATA', 'Close': 'Fechamento'}, inplace=True)\n",
        "\n",
        "            print(f\"\\nTABELA DE PREÇOS do {ativo}\\n\\n\")\n",
        "            print(df)\n",
        "        else:\n",
        "            print(\"Não foi possível obter os dados do ativo. Verifique se o ativo está correto.\")\n",
        "    else:\n",
        "        print(\"Ativo não encontrado no dicionário. Verifique o código digitado.\")\n",
        "\n",
        "if __name__ == \"__main__\":\n",
        "    buscar_dados_ativo()\n"
      ],
      "metadata": {
        "colab": {
          "base_uri": "https://localhost:8080/"
        },
        "id": "M9_IxdHIQIRo",
        "outputId": "c1bb5bfb-7312-4cfc-dc1b-66182e5ce2ec"
      },
      "execution_count": null,
      "outputs": [
        {
          "name": "stdout",
          "output_type": "stream",
          "text": [
            "Digite o código do ativo listado na B3 (ex: PETR4): petr4\n"
          ]
        },
        {
          "output_type": "stream",
          "name": "stderr",
          "text": [
            "\r[*********************100%***********************]  1 of 1 completed"
          ]
        },
        {
          "output_type": "stream",
          "name": "stdout",
          "text": [
            "Ativo encontrado: {'nome': 'Petrobras', 'setor': 'Petróleo, Gás e Biocombustíveis', 'tipo': 'Ação Preferencial'}\n",
            "Buscando dados para o ativo PETR4...\n",
            "\n",
            "TABELA DE PREÇOS do PETR4\n",
            "\n",
            "\n",
            "Ticker        Data   PETR4.SA\n",
            "0       23/12/2024  35.531796\n",
            "1       26/12/2024  35.770000\n",
            "2       27/12/2024  35.660000\n",
            "3       30/12/2024  36.189999\n",
            "4       02/01/2025  36.770000\n",
            "5       03/01/2025  36.380001\n",
            "6       06/01/2025  36.209999\n",
            "7       07/01/2025  36.980000\n",
            "8       08/01/2025  36.680000\n",
            "9       09/01/2025  36.840000\n",
            "10      10/01/2025  36.939999\n",
            "11      13/01/2025  37.070000\n",
            "12      14/01/2025  36.820000\n",
            "13      15/01/2025  37.290001\n",
            "14      16/01/2025  37.049999\n",
            "15      17/01/2025  37.200001\n",
            "16      20/01/2025  37.290001\n",
            "17      21/01/2025  37.299999\n",
            "18      22/01/2025  37.090000\n"
          ]
        },
        {
          "output_type": "stream",
          "name": "stderr",
          "text": [
            "\n"
          ]
        }
      ]
    }
  ]
}