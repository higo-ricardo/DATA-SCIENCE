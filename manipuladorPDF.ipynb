{
  "nbformat": 4,
  "nbformat_minor": 0,
  "metadata": {
    "colab": {
      "provenance": []
    },
    "kernelspec": {
      "name": "python3",
      "display_name": "Python 3"
    },
    "language_info": {
      "name": "python"
    }
  },
  "cells": [
    {
      "cell_type": "code",
      "execution_count": null,
      "metadata": {
        "colab": {
          "base_uri": "https://localhost:8080/"
        },
        "id": "Azj2IFOn0a4c",
        "outputId": "b8440cae-7e6c-4dca-f29c-b7528f97157b"
      },
      "outputs": [
        {
          "output_type": "stream",
          "name": "stdout",
          "text": [
            "Requirement already satisfied: gradio in /usr/local/lib/python3.11/dist-packages (5.13.2)\n",
            "Requirement already satisfied: PyPDF2 in /usr/local/lib/python3.11/dist-packages (3.0.1)\n",
            "Collecting pyinstaller\n",
            "  Downloading pyinstaller-6.11.1-py3-none-manylinux2014_x86_64.whl.metadata (8.3 kB)\n",
            "Requirement already satisfied: aiofiles<24.0,>=22.0 in /usr/local/lib/python3.11/dist-packages (from gradio) (23.2.1)\n",
            "Requirement already satisfied: anyio<5.0,>=3.0 in /usr/local/lib/python3.11/dist-packages (from gradio) (3.7.1)\n",
            "Requirement already satisfied: fastapi<1.0,>=0.115.2 in /usr/local/lib/python3.11/dist-packages (from gradio) (0.115.7)\n",
            "Requirement already satisfied: ffmpy in /usr/local/lib/python3.11/dist-packages (from gradio) (0.5.0)\n",
            "Requirement already satisfied: gradio-client==1.6.0 in /usr/local/lib/python3.11/dist-packages (from gradio) (1.6.0)\n",
            "Requirement already satisfied: httpx>=0.24.1 in /usr/local/lib/python3.11/dist-packages (from gradio) (0.28.1)\n",
            "Requirement already satisfied: huggingface-hub>=0.25.1 in /usr/local/lib/python3.11/dist-packages (from gradio) (0.27.1)\n",
            "Requirement already satisfied: jinja2<4.0 in /usr/local/lib/python3.11/dist-packages (from gradio) (3.1.5)\n",
            "Requirement already satisfied: markupsafe~=2.0 in /usr/local/lib/python3.11/dist-packages (from gradio) (2.1.5)\n",
            "Requirement already satisfied: numpy<3.0,>=1.0 in /usr/local/lib/python3.11/dist-packages (from gradio) (1.26.4)\n",
            "Requirement already satisfied: orjson~=3.0 in /usr/local/lib/python3.11/dist-packages (from gradio) (3.10.15)\n",
            "Requirement already satisfied: packaging in /usr/local/lib/python3.11/dist-packages (from gradio) (24.2)\n",
            "Requirement already satisfied: pandas<3.0,>=1.0 in /usr/local/lib/python3.11/dist-packages (from gradio) (2.2.2)\n",
            "Requirement already satisfied: pillow<12.0,>=8.0 in /usr/local/lib/python3.11/dist-packages (from gradio) (11.1.0)\n",
            "Requirement already satisfied: pydantic>=2.0 in /usr/local/lib/python3.11/dist-packages (from gradio) (2.10.6)\n",
            "Requirement already satisfied: pydub in /usr/local/lib/python3.11/dist-packages (from gradio) (0.25.1)\n",
            "Requirement already satisfied: python-multipart>=0.0.18 in /usr/local/lib/python3.11/dist-packages (from gradio) (0.0.20)\n",
            "Requirement already satisfied: pyyaml<7.0,>=5.0 in /usr/local/lib/python3.11/dist-packages (from gradio) (6.0.2)\n",
            "Requirement already satisfied: ruff>=0.2.2 in /usr/local/lib/python3.11/dist-packages (from gradio) (0.9.3)\n",
            "Requirement already satisfied: safehttpx<0.2.0,>=0.1.6 in /usr/local/lib/python3.11/dist-packages (from gradio) (0.1.6)\n",
            "Requirement already satisfied: semantic-version~=2.0 in /usr/local/lib/python3.11/dist-packages (from gradio) (2.10.0)\n",
            "Requirement already satisfied: starlette<1.0,>=0.40.0 in /usr/local/lib/python3.11/dist-packages (from gradio) (0.45.3)\n",
            "Requirement already satisfied: tomlkit<0.14.0,>=0.12.0 in /usr/local/lib/python3.11/dist-packages (from gradio) (0.13.2)\n",
            "Requirement already satisfied: typer<1.0,>=0.12 in /usr/local/lib/python3.11/dist-packages (from gradio) (0.15.1)\n",
            "Requirement already satisfied: typing-extensions~=4.0 in /usr/local/lib/python3.11/dist-packages (from gradio) (4.12.2)\n",
            "Requirement already satisfied: uvicorn>=0.14.0 in /usr/local/lib/python3.11/dist-packages (from gradio) (0.34.0)\n",
            "Requirement already satisfied: fsspec in /usr/local/lib/python3.11/dist-packages (from gradio-client==1.6.0->gradio) (2024.10.0)\n",
            "Requirement already satisfied: websockets<15.0,>=10.0 in /usr/local/lib/python3.11/dist-packages (from gradio-client==1.6.0->gradio) (14.2)\n",
            "Requirement already satisfied: setuptools>=42.0.0 in /usr/local/lib/python3.11/dist-packages (from pyinstaller) (75.1.0)\n",
            "Collecting altgraph (from pyinstaller)\n",
            "  Downloading altgraph-0.17.4-py2.py3-none-any.whl.metadata (7.3 kB)\n",
            "Collecting pyinstaller-hooks-contrib>=2024.9 (from pyinstaller)\n",
            "  Downloading pyinstaller_hooks_contrib-2025.0-py3-none-any.whl.metadata (16 kB)\n",
            "Requirement already satisfied: idna>=2.8 in /usr/local/lib/python3.11/dist-packages (from anyio<5.0,>=3.0->gradio) (3.10)\n",
            "Requirement already satisfied: sniffio>=1.1 in /usr/local/lib/python3.11/dist-packages (from anyio<5.0,>=3.0->gradio) (1.3.1)\n",
            "Requirement already satisfied: certifi in /usr/local/lib/python3.11/dist-packages (from httpx>=0.24.1->gradio) (2024.12.14)\n",
            "Requirement already satisfied: httpcore==1.* in /usr/local/lib/python3.11/dist-packages (from httpx>=0.24.1->gradio) (1.0.7)\n",
            "Requirement already satisfied: h11<0.15,>=0.13 in /usr/local/lib/python3.11/dist-packages (from httpcore==1.*->httpx>=0.24.1->gradio) (0.14.0)\n",
            "Requirement already satisfied: filelock in /usr/local/lib/python3.11/dist-packages (from huggingface-hub>=0.25.1->gradio) (3.17.0)\n",
            "Requirement already satisfied: requests in /usr/local/lib/python3.11/dist-packages (from huggingface-hub>=0.25.1->gradio) (2.32.3)\n",
            "Requirement already satisfied: tqdm>=4.42.1 in /usr/local/lib/python3.11/dist-packages (from huggingface-hub>=0.25.1->gradio) (4.67.1)\n",
            "Requirement already satisfied: python-dateutil>=2.8.2 in /usr/local/lib/python3.11/dist-packages (from pandas<3.0,>=1.0->gradio) (2.8.2)\n",
            "Requirement already satisfied: pytz>=2020.1 in /usr/local/lib/python3.11/dist-packages (from pandas<3.0,>=1.0->gradio) (2024.2)\n",
            "Requirement already satisfied: tzdata>=2022.7 in /usr/local/lib/python3.11/dist-packages (from pandas<3.0,>=1.0->gradio) (2025.1)\n",
            "Requirement already satisfied: annotated-types>=0.6.0 in /usr/local/lib/python3.11/dist-packages (from pydantic>=2.0->gradio) (0.7.0)\n",
            "Requirement already satisfied: pydantic-core==2.27.2 in /usr/local/lib/python3.11/dist-packages (from pydantic>=2.0->gradio) (2.27.2)\n",
            "Requirement already satisfied: click>=8.0.0 in /usr/local/lib/python3.11/dist-packages (from typer<1.0,>=0.12->gradio) (8.1.8)\n",
            "Requirement already satisfied: shellingham>=1.3.0 in /usr/local/lib/python3.11/dist-packages (from typer<1.0,>=0.12->gradio) (1.5.4)\n",
            "Requirement already satisfied: rich>=10.11.0 in /usr/local/lib/python3.11/dist-packages (from typer<1.0,>=0.12->gradio) (13.9.4)\n",
            "Requirement already satisfied: six>=1.5 in /usr/local/lib/python3.11/dist-packages (from python-dateutil>=2.8.2->pandas<3.0,>=1.0->gradio) (1.17.0)\n",
            "Requirement already satisfied: markdown-it-py>=2.2.0 in /usr/local/lib/python3.11/dist-packages (from rich>=10.11.0->typer<1.0,>=0.12->gradio) (3.0.0)\n",
            "Requirement already satisfied: pygments<3.0.0,>=2.13.0 in /usr/local/lib/python3.11/dist-packages (from rich>=10.11.0->typer<1.0,>=0.12->gradio) (2.18.0)\n",
            "Requirement already satisfied: charset-normalizer<4,>=2 in /usr/local/lib/python3.11/dist-packages (from requests->huggingface-hub>=0.25.1->gradio) (3.4.1)\n",
            "Requirement already satisfied: urllib3<3,>=1.21.1 in /usr/local/lib/python3.11/dist-packages (from requests->huggingface-hub>=0.25.1->gradio) (2.3.0)\n",
            "Requirement already satisfied: mdurl~=0.1 in /usr/local/lib/python3.11/dist-packages (from markdown-it-py>=2.2.0->rich>=10.11.0->typer<1.0,>=0.12->gradio) (0.1.2)\n",
            "Downloading pyinstaller-6.11.1-py3-none-manylinux2014_x86_64.whl (710 kB)\n",
            "\u001b[2K   \u001b[90m━━━━━━━━━━━━━━━━━━━━━━━━━━━━━━━━━━━━━━━━\u001b[0m \u001b[32m710.1/710.1 kB\u001b[0m \u001b[31m16.1 MB/s\u001b[0m eta \u001b[36m0:00:00\u001b[0m\n",
            "\u001b[?25hDownloading pyinstaller_hooks_contrib-2025.0-py3-none-any.whl (344 kB)\n",
            "\u001b[2K   \u001b[90m━━━━━━━━━━━━━━━━━━━━━━━━━━━━━━━━━━━━━━━━\u001b[0m \u001b[32m344.7/344.7 kB\u001b[0m \u001b[31m16.2 MB/s\u001b[0m eta \u001b[36m0:00:00\u001b[0m\n",
            "\u001b[?25hDownloading altgraph-0.17.4-py2.py3-none-any.whl (21 kB)\n",
            "Installing collected packages: altgraph, pyinstaller-hooks-contrib, pyinstaller\n",
            "Successfully installed altgraph-0.17.4 pyinstaller-6.11.1 pyinstaller-hooks-contrib-2025.0\n"
          ]
        }
      ],
      "source": [
        "!pip install gradio PyPDF2 pyinstaller"
      ]
    },
    {
      "cell_type": "markdown",
      "source": [],
      "metadata": {
        "id": "JqQYbSw10eKA"
      }
    },
    {
      "cell_type": "code",
      "source": [
        "import gradio as gr\n",
        "from PyPDF2 import PdfMerger, PdfReader, PdfWriter\n",
        "import os\n",
        "import tempfile\n",
        "\n",
        "def merge_pdfs(files):\n",
        "    \"\"\"Função para juntar PDFs\"\"\"\n",
        "    if len(files) < 2:\n",
        "        return None, \"Por favor, selecione pelo menos 2 arquivos PDF para juntar.\"\n",
        "\n",
        "    try:\n",
        "        merger = PdfMerger()\n",
        "        for file in files:\n",
        "            merger.append(file.name)\n",
        "\n",
        "        # Criar arquivo temporário para o resultado\n",
        "        with tempfile.NamedTemporaryFile(suffix='.pdf', delete=False) as temp_file:\n",
        "            merger.write(temp_file.name)\n",
        "            merger.close()\n",
        "            return temp_file.name, \"PDFs unidos com sucesso!\"\n",
        "\n",
        "    except Exception as e:\n",
        "        return None, f\"Erro ao unir PDFs: {str(e)}\"\n",
        "\n",
        "def split_pdf(file):\n",
        "    \"\"\"Função para dividir PDF em páginas individuais\"\"\"\n",
        "    if file is None:\n",
        "        return None, \"Por favor, selecione um arquivo PDF para dividir.\"\n",
        "\n",
        "    try:\n",
        "        pdf = PdfReader(file.name)\n",
        "        output_files = []\n",
        "\n",
        "        # Criar diretório temporário para armazenar as páginas\n",
        "        temp_dir = tempfile.mkdtemp()\n",
        "\n",
        "        for page_num in range(len(pdf.pages)):\n",
        "            writer = PdfWriter()\n",
        "            writer.add_page(pdf.pages[page_num])\n",
        "\n",
        "            output_path = os.path.join(temp_dir, f\"pagina_{page_num + 1}.pdf\")\n",
        "            with open(output_path, \"wb\") as output_file:\n",
        "                writer.write(output_file)\n",
        "            output_files.append(output_path)\n",
        "\n",
        "        return output_files, \"PDF dividido com sucesso!\"\n",
        "\n",
        "    except Exception as e:\n",
        "        return None, f\"Erro ao dividir PDF: {str(e)}\"\n",
        "\n",
        "# Criar interface Gradio\n",
        "with gr.Blocks(title=\"Manipulador de PDF\") as demo:\n",
        "    gr.Markdown(\"# Manipulador de PDF\")\n",
        "\n",
        "    with gr.Tab(\"Juntar PDFs\"):\n",
        "        with gr.Column():\n",
        "            files_input = gr.File(\n",
        "                file_count=\"multiple\",\n",
        "                file_types=[\".pdf\"],\n",
        "                label=\"Selecione os arquivos PDF para juntar\"\n",
        "            )\n",
        "            merge_button = gr.Button(\"Juntar PDFs\")\n",
        "            merge_output = gr.File(label=\"PDF Unificado\")\n",
        "            merge_message = gr.Textbox(label=\"Status\", interactive=False)\n",
        "\n",
        "        merge_button.click(\n",
        "            fn=merge_pdfs,\n",
        "            inputs=[files_input],\n",
        "            outputs=[merge_output, merge_message]\n",
        "        )\n",
        "\n",
        "    with gr.Tab(\"Dividir PDF\"):\n",
        "        with gr.Column():\n",
        "            file_input = gr.File(\n",
        "                file_types=[\".pdf\"],\n",
        "                label=\"Selecione um arquivo PDF para dividir\"\n",
        "            )\n",
        "            split_button = gr.Button(\"Dividir PDF\")\n",
        "            split_output = gr.File(\n",
        "                file_count=\"multiple\",\n",
        "                label=\"Páginas Individuais\"\n",
        "            )\n",
        "            split_message = gr.Textbox(label=\"Status\", interactive=False)\n",
        "\n",
        "        split_button.click(\n",
        "            fn=split_pdf,\n",
        "            inputs=[file_input],\n",
        "            outputs=[split_output, split_message]\n",
        "        )\n",
        "\n",
        "# Iniciar a aplicação\n",
        "if __name__ == \"__main__\":\n",
        "    demo.launch()"
      ],
      "metadata": {
        "colab": {
          "base_uri": "https://localhost:8080/",
          "height": 646
        },
        "id": "hgwkJrPI5G_a",
        "outputId": "6db41181-0eed-479d-95b7-de7edc1cdc76"
      },
      "execution_count": null,
      "outputs": [
        {
          "output_type": "stream",
          "name": "stdout",
          "text": [
            "Running Gradio in a Colab notebook requires sharing enabled. Automatically setting `share=True` (you can turn this off by setting `share=False` in `launch()` explicitly).\n",
            "\n",
            "Colab notebook detected. To show errors in colab notebook, set debug=True in launch()\n",
            "* Running on public URL: https://19115ae319786481da.gradio.live\n",
            "\n",
            "This share link expires in 72 hours. For free permanent hosting and GPU upgrades, run `gradio deploy` from the terminal in the working directory to deploy to Hugging Face Spaces (https://huggingface.co/spaces)\n"
          ]
        },
        {
          "output_type": "display_data",
          "data": {
            "text/plain": [
              "<IPython.core.display.HTML object>"
            ],
            "text/html": [
              "<div><iframe src=\"https://19115ae319786481da.gradio.live\" width=\"100%\" height=\"500\" allow=\"autoplay; camera; microphone; clipboard-read; clipboard-write;\" frameborder=\"0\" allowfullscreen></iframe></div>"
            ]
          },
          "metadata": {}
        }
      ]
    },
    {
      "cell_type": "markdown",
      "source": [
        "# Requisitos do Manipulador de PDF\n",
        "\n",
        "## 1. Requisitos Funcionais (RF)\n",
        "\n",
        "### RF01 - Upload de Arquivos\n",
        "- O sistema deve permitir ao usuário fazer upload de múltiplos arquivos PDF\n",
        "- O sistema deve validar se os arquivos enviados são do formato PDF\n",
        "- O sistema deve exibir mensagem de erro caso o arquivo não seja PDF\n",
        "\n",
        "### RF02 - Junção de PDFs\n",
        "- O sistema deve permitir a junção de dois ou mais arquivos PDF\n",
        "- O sistema deve manter a ordem dos arquivos conforme selecionado pelo usuário\n",
        "- O sistema deve gerar um único arquivo PDF como resultado da junção\n",
        "- O sistema deve permitir o download do arquivo PDF resultante\n",
        "\n",
        "### RF03 - Divisão de PDF\n",
        "- O sistema deve permitir a divisão de um arquivo PDF em múltiplas páginas individuais\n",
        "- O sistema deve gerar um arquivo PDF separado para cada página do documento original\n",
        "- O sistema deve nomear os arquivos resultantes de forma sequencial (página_1.pdf, página_2.pdf, etc.)\n",
        "- O sistema deve permitir o download dos arquivos PDF resultantes\n",
        "\n",
        "### RF04 - Feedback ao Usuário\n",
        "- O sistema deve exibir mensagens de sucesso após operações bem-sucedidas\n",
        "- O sistema deve exibir mensagens de erro em caso de falhas\n",
        "- O sistema deve informar o progresso das operações em andamento\n",
        "\n",
        "## 2. Requisitos Não Funcionais (RNF)\n",
        "\n",
        "### RNF01 - Usabilidade\n",
        "- A interface deve ser intuitiva e fácil de usar\n",
        "- O sistema deve ser acessível via navegador web\n",
        "- O sistema deve suportar operação de arrastar e soltar (drag and drop) para upload de arquivos\n",
        "- A interface deve ser responsiva e adaptável a diferentes tamanhos de tela\n",
        "\n",
        "### RNF02 - Desempenho\n",
        "- O sistema deve processar a junção de PDFs em até 30 segundos para arquivos de até 20MB\n",
        "- O sistema deve processar a divisão de PDF em até 20 segundos para arquivos de até 10MB\n",
        "- O sistema deve suportar o upload simultâneo de até 10 arquivos\n",
        "- O tempo de resposta da interface não deve exceder 2 segundos\n",
        "\n",
        "### RNF03 - Segurança\n",
        "- O sistema deve processar os arquivos em ambiente isolado\n",
        "- Os arquivos temporários devem ser excluídos após o processamento\n",
        "- O sistema não deve armazenar permanentemente os PDFs processados\n",
        "- O sistema deve garantir que apenas arquivos PDF sejam processados\n",
        "\n",
        "### RNF04 - Disponibilidade\n",
        "- O sistema deve estar disponível para uso local sempre que iniciado\n",
        "- O sistema deve manter a sessão ativa durante todo o processamento\n",
        "- O sistema deve ser capaz de se recuperar de falhas sem perder dados\n",
        "\n",
        "### RNF05 - Portabilidade\n",
        "- O sistema deve funcionar nos principais navegadores (Chrome, Firefox, Safari, Edge)\n",
        "- O sistema deve ser executável em diferentes sistemas operacionais (Windows, macOS, Linux)\n",
        "- O sistema deve requerer instalação mínima de dependências\n",
        "\n",
        "### RNF06 - Manutenibilidade\n",
        "- O código deve ser modular e bem documentado\n",
        "- O sistema deve permitir fácil atualização das dependências\n",
        "- O sistema deve gerar logs de erros para facilitar a depuração\n",
        "\n",
        "### RNF07 - Escalabilidade\n",
        "- O sistema deve suportar o processamento de PDFs de diferentes tamanhos\n",
        "- O sistema deve gerenciar eficientemente o uso de memória durante o processamento\n",
        "- O sistema deve ser capaz de lidar com múltiplas requisições simultâneas\n",
        "\n",
        "### RNF08 - Conformidade\n",
        "- O sistema deve preservar a qualidade original dos PDFs processados\n",
        "- O sistema deve manter a formatação original dos documentos\n",
        "- O sistema deve suportar diferentes versões do formato PDF"
      ],
      "metadata": {
        "id": "okY4-2wg7JI-"
      }
    },
    {
      "cell_type": "code",
      "source": [
        "!pip uninstall pathlib -y"
      ],
      "metadata": {
        "colab": {
          "base_uri": "https://localhost:8080/"
        },
        "id": "_ivquRIYBxVe",
        "outputId": "d3b1fbbf-a8e2-4884-88b5-0f2074d7ddcf"
      },
      "execution_count": null,
      "outputs": [
        {
          "output_type": "stream",
          "name": "stdout",
          "text": [
            "Found existing installation: pathlib 1.0.1\n",
            "Uninstalling pathlib-1.0.1:\n",
            "  Successfully uninstalled pathlib-1.0.1\n"
          ]
        }
      ]
    },
    {
      "cell_type": "code",
      "source": [],
      "metadata": {
        "colab": {
          "base_uri": "https://localhost:8080/",
          "height": 106
        },
        "id": "pBCQmllABl6T",
        "outputId": "5b93d5c7-a5d0-4e5b-a758-593bf1c7c374"
      },
      "execution_count": null,
      "outputs": [
        {
          "output_type": "error",
          "ename": "SyntaxError",
          "evalue": "invalid syntax (<ipython-input-12-707e325a8bb6>, line 36)",
          "traceback": [
            "\u001b[0;36m  File \u001b[0;32m\"<ipython-input-12-707e325a8bb6>\"\u001b[0;36m, line \u001b[0;32m36\u001b[0m\n\u001b[0;31m    @echo off\u001b[0m\n\u001b[0m          ^\u001b[0m\n\u001b[0;31mSyntaxError\u001b[0m\u001b[0;31m:\u001b[0m invalid syntax\n"
          ]
        }
      ]
    }
  ]
}