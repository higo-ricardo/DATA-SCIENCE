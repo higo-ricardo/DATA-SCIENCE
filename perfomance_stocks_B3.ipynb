{
  "nbformat": 4,
  "nbformat_minor": 0,
  "metadata": {
    "colab": {
      "provenance": []
    },
    "kernelspec": {
      "name": "python3",
      "display_name": "Python 3"
    },
    "language_info": {
      "name": "python"
    }
  },
  "cells": [
    {
      "cell_type": "markdown",
      "source": [
        "CONFIGURAÇÃO DO AMBIENTE"
      ],
      "metadata": {
        "id": "A283SROs-LOp"
      }
    },
    {
      "cell_type": "code",
      "execution_count": null,
      "metadata": {
        "id": "sIWxIDKM-IFr"
      },
      "outputs": [],
      "source": [
        "import subprocess\n",
        "import sys\n",
        "\n",
        "def upgrade_or_install(packages):\n",
        "    \"\"\" Verifica se os pacotes estão instalados e os atualiza se necessário. \"\"\"\n",
        "    for package in packages:\n",
        "        try:\n",
        "            __import__(package)  # Tenta importar o pacote\n",
        "            print(f\"✅ O {package} já está instalado.\")\n",
        "            subprocess.run([sys.executable, \"-m\", \"pip\", \"install\", \"--upgrade\", package], check=True)\n",
        "            print(f\"🔄 O {package} foi atualizado com sucesso.\")\n",
        "        except ImportError:\n",
        "            print(f\"⚠️ O {package} não encontrado. iniciando a Instalação do pacote...\")\n",
        "            subprocess.run([sys.executable, \"-m\", \"pip\", \"install\", package], check=True)\n",
        "            print(f\"✅ O {package} instalado com sucesso.\")\n",
        "\n",
        "# Lista de pacotes necessários\n",
        "packages = [\"yfinance\", \"seaborn\", \"matplotlib\", \"pandas\"]\n",
        "\n",
        "# Verificar e instalar/atualizar pacotes\n",
        "upgrade_or_install(packages)\n"
      ]
    },
    {
      "cell_type": "markdown",
      "source": [
        "MÓDULO PRINCIPAL COM LISTAS DE ATIVOS E FUNÇÃO DE DIVIDENDOS"
      ],
      "metadata": {
        "id": "folfuns7K_jA"
      }
    },
    {
      "cell_type": "code",
      "source": [
        "import yfinance as yf\n",
        "import pandas as pd\n",
        "import seaborn as sns\n",
        "import matplotlib.pyplot as plt\n",
        "\n",
        "# Configuração para visualização\n",
        "sns.set_theme(style=\"whitegrid\")\n",
        "\n",
        "# Lista de ações brasileiras com o sufixo .SA\n",
        "stocks = [\n",
        "    \"PETR4.SA\", \"PRIO3.SA\",\n",
        "    \"BBAS3.SA\", \"BBDC3.SA\", \"BRSR6.SA\", \"ABCB4.SA\", \"SANB4.SA\", #BANCOS\n",
        "    \"BBSE3.SA\", \"CXSE3.SA\",\n",
        "    \"MRVE3.SA\", \"JHSF3.SA\", \"LAVV3.SA\"\n",
        "    \"BRAP4.SA\", \"VALE3.SA\", \"CMIN3.SA\", #MINERAÇÃO\n",
        "    \"CMIG4.SA\", \"TAEE4.SA\", \"TRPL4.SA\"  #ENERGIA\n",
        "    \"GOAU4.SA\",\n",
        "    \"GGBR3.SA\",\n",
        "    \"RANI3.SA\", \"SUZB3.SA\", \"CSAN3.SA\",\n",
        "    \"WEGE3.SA\", \"LEVE3.SA\"\n",
        "    \"TIMS3.SA\", #BENS INDUSTRIAIS\n",
        "    \"MGLU3.SA\" #VAREJO\n",
        "]\n",
        "print(f'O estudo envolve {len(stocks)} ações em diferentes setores da economia brasileira.')\n",
        "\n",
        "# Baixar dados históricos\n",
        "data = yf.download(stocks, start=\"2023-01-01\", end=\"2024-01-01\")[\"Close\"]\n",
        "\n",
        "# Remover colunas com valores NaN (se houver)\n",
        "data = data.dropna(axis=1, how='all')\n",
        "\n",
        "# Normalizar os preços para comparar desempenhos\n",
        "desempenho = data / data.iloc[0]\n",
        "\n",
        "def verificar_dividendos(acoes):\n",
        "    \"\"\" Verifica e imprime os dividendos pagos por um conjunto de ações. \"\"\"\n",
        "    print(\"\\n🔍 **Coletando dados sobre o pagamento de dividendos:**\")\n",
        "    print(\"\\n Aguarde um momento...\\n\")\n",
        "\n",
        "    for stock in acoes:\n",
        "        acao = yf.Ticker(stock)\n",
        "        dividendos = acao.dividends.loc[\"2024-01-01\":\"2025-01-01\"]  # Dividendos no último ano\n",
        "        total_dividendos = dividendos.sum()\n",
        "\n",
        "        if total_dividendos > 0:\n",
        "            print(f\"✅ A {stock} pagou dividendos, no total de R$ {total_dividendos:.2f} no perído analisado.\")\n",
        "        else:\n",
        "            print(f\"❌Infelizmente, a {stock} não pagou dividendos no período analisado.\")"
      ],
      "metadata": {
        "id": "NDONf9KM_I0a"
      },
      "execution_count": null,
      "outputs": []
    },
    {
      "cell_type": "markdown",
      "source": [
        "COMPARATIVO DE PERFORMANCE DAS AÇÕES COM RANKING E GRÁFICOS, DIVIDINDO EM 3 GRUPOS"
      ],
      "metadata": {
        "id": "XoXvund6_HyH"
      }
    },
    {
      "cell_type": "code",
      "source": [
        "# Chamando as funções para visualizar os gráficos na ordem correta\n",
        "def upside_stock():\n",
        "    \"\"\" Gera um gráfico das 5 ações com melhor desempenho e verifica dividendos. \"\"\"\n",
        "    top10 = desempenho.iloc[-1].nlargest(10).index  # Seleciona as 5 melhores ações\n",
        "    top10 = list(top10)\n",
        "    desempenho[top10].plot(figsize=(15, 6), title=f'GRÁFICO DAS {len(top10)} AÇÕES COM MELHOR DESEMPENHO NO PERÍODO', lw=2)\n",
        "    plt.ylabel('Desempenho Normalizado')\n",
        "    plt.xlabel('DATA')\n",
        "    plt.legend(title='Ações', loc='upper left', fontsize='small')\n",
        "    plt.show()\n",
        "\n",
        "    verificar_dividendos(top10)\n",
        "    return set(top10)\n",
        "\n",
        "def downside_stock():\n",
        "    \"\"\" Gera um gráfico das 5 ações com pior desempenho e verifica dividendos. \"\"\"\n",
        "    bottom10 = desempenho.iloc[-1].nsmallest(10).index  # Seleciona as 5 piores ações\n",
        "    bottom10 = list(bottom10)\n",
        "    desempenho[bottom10].plot(figsize=(15, 6), title=f'GRÁFICO DAS {len(bottom10)} AÇÕES COM PIOR DESEMPENHO NO PERÍODO', lw=2)\n",
        "    plt.ylabel('Desempenho Normalizado')\n",
        "    plt.xlabel('DATA')\n",
        "    plt.legend(title='Ações', loc='upper left', fontsize='small')\n",
        "    plt.show()\n",
        "\n",
        "    verificar_dividendos(bottom10)\n",
        "    return set(bottom10)\n",
        "\n",
        "def half_stock(top10, bottom5):\n",
        "    \"\"\" Gera um gráfico das ações que não estão entre as 5 melhores nem as 5 piores. \"\"\"\n",
        "    middle_stocks = set(desempenho.columns) - top10 - bottom10  # Remove as top 5 e bottom 5\n",
        "\n",
        "    if middle_stocks:\n",
        "        desempenho[list(middle_stocks)].plot(figsize=(15, 6), title='GRÁFICO DAS AÇÕES COM DESEMPENHO INTERMEDIÁRIO NO PERÍODO', lw=2)\n",
        "        plt.ylabel('Desempenho Normalizado')\n",
        "        plt.xlabel('DATA')\n",
        "        plt.legend(title='Ações', loc='upper left', fontsize='small')\n",
        "        plt.show()\n",
        "\n",
        "        verificar_dividendos(middle_stocks)\n",
        "    else:\n",
        "        print(\"❌ Infelizmnete, não há ações para exibir.\")\n",
        "\n",
        "    return middle_stocks"
      ],
      "metadata": {
        "id": "GQ95yNXnLZou"
      },
      "execution_count": null,
      "outputs": []
    },
    {
      "cell_type": "markdown",
      "source": [
        "CHAMADAS DAS FUNÇÕES SECUNDÁRIAS"
      ],
      "metadata": {
        "id": "FjvNgoaILi4F"
      }
    },
    {
      "cell_type": "code",
      "source": [
        "top10 = upside_stock()\n",
        "bottom10 = downside_stock()\n",
        "half = half_stock(top10, bottom10)"
      ],
      "metadata": {
        "id": "NOqC7--kLj_s"
      },
      "execution_count": null,
      "outputs": []
    }
  ]
}